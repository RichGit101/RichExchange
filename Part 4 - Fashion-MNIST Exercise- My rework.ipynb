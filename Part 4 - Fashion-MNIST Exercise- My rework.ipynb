{
 "cells": [
  {
   "cell_type": "markdown",
   "metadata": {},
   "source": [
    "# Classifying Fashion-MNIST\n",
    "\n",
    "Now it's your turn to build and train a neural network. You'll be using the [Fashion-MNIST dataset](https://github.com/zalandoresearch/fashion-mnist), a drop-in replacement for the MNIST dataset. MNIST is actually quite trivial with neural networks where you can easily achieve better than 97% accuracy. Fashion-MNIST is a set of 28x28 greyscale images of clothes. It's more complex than MNIST, so it's a better representation of the actual performance of your network, and a better representation of datasets you'll use in the real world.\n",
    "\n",
    "<img src='assets/fashion-mnist-sprite.png' width=500px>\n",
    "\n",
    "In this notebook, you'll build your own neural network. For the most part, you could just copy and paste the code from Part 3, but you wouldn't be learning. It's important for you to write the code yourself and get it to work. Feel free to consult the previous notebook though as you work through this.\n",
    "\n",
    "First off, let's load the dataset through torchvision."
   ]
  },
  {
   "cell_type": "code",
   "execution_count": 5,
   "metadata": {},
   "outputs": [],
   "source": [
    "import torch\n",
    "from torchvision import datasets, transforms\n",
    "import helper\n",
    "import matplotlib.pyplot as plt\n",
    "import numpy as np\n",
    "from torch import nn, optim\n",
    "from torch.autograd import Variable\n",
    "\n",
    "# Define a transform to normalize the data\n",
    "transform = transforms.Compose([transforms.ToTensor(),\n",
    "                                transforms.Normalize((0.5, 0.5, 0.5), (0.5, 0.5, 0.5))])\n",
    "# Download and load the training data\n",
    "trainset = datasets.FashionMNIST('F_MNIST_data/', download=True, train=True, transform=transform)\n",
    "trainloader = torch.utils.data.DataLoader(trainset, batch_size=64, shuffle=True)\n",
    "\n",
    "# Download and load the test data\n",
    "testset = datasets.FashionMNIST('F_MNIST_data/', download=True, train=False, transform=transform)\n",
    "testloader = torch.utils.data.DataLoader(testset, batch_size=64, shuffle=True)"
   ]
  },
  {
   "cell_type": "markdown",
   "metadata": {},
   "source": [
    "Here we can see one of the images."
   ]
  },
  {
   "cell_type": "code",
   "execution_count": 6,
   "metadata": {},
   "outputs": [],
   "source": [
    "def viz_img(image, ax=None, title=None, normalize=True):\n",
    "    \"\"\"Imshow for Tensor.\"\"\"\n",
    "    if ax is None:\n",
    "        fig, ax = plt.subplots()\n",
    "    image = image.numpy().transpose((1, 2, 0))\n",
    "\n",
    "    if normalize:\n",
    "        mean = np.array([0.485, 0.456, 0.406])\n",
    "        std = np.array([0.229, 0.224, 0.225])\n",
    "        image = std * image + mean\n",
    "        image = np.clip(image, 0, 1)\n",
    "\n",
    "    ax.imshow(image)\n",
    "    ax.spines['top'].set_visible(False)\n",
    "    ax.spines['right'].set_visible(False)\n",
    "    ax.spines['left'].set_visible(False)\n",
    "    ax.spines['bottom'].set_visible(False)\n",
    "    ax.tick_params(axis='both', length=0)\n",
    "    ax.set_xticklabels('')\n",
    "    ax.set_yticklabels('')\n",
    "\n",
    "    return ax"
   ]
  },
  {
   "cell_type": "code",
   "execution_count": 7,
   "metadata": {},
   "outputs": [
    {
     "data": {
      "image/png": "[encoded data removed]",
      "text/plain": [
       "<matplotlib.figure.Figure at 0x11248c208>"
      ]
     },
     "metadata": {},
     "output_type": "display_data"
    }
   ],
   "source": [
    "image, label = next(iter(trainloader))\n",
    "viz_img(image[0,:]);"
   ]
  },
  {
   "cell_type": "markdown",
   "metadata": {},
   "source": [
    "With the data loaded, it's time to import the necessary packages."
   ]
  },
  {
   "cell_type": "code",
   "execution_count": 8,
   "metadata": {},
   "outputs": [],
   "source": [
    "%matplotlib inline\n",
    "%config InlineBackend.figure_format = 'retina'\n",
    "\n",
    "import matplotlib.pyplot as plt\n",
    "\n",
    "import numpy as np\n",
    "import time\n",
    "\n",
    "import torch\n",
    "from torch import nn\n",
    "from torch import optim\n",
    "\n",
    "import torch.nn.functional as F\n",
    "\n",
    "from torchvision import datasets, transforms\n",
    "\n",
    "import helper"
   ]
  },
  {
   "cell_type": "markdown",
   "metadata": {},
   "source": [
    "## Building the network\n",
    "\n",
    "Here you should define your network. As with MNIST, each image is 28x28 which is a total of 784 pixels, and there are 10 classes. You should include at least one hidden layer. We suggest you use ReLU activations for the layers and to return the logits from the forward pass. It's up to you how many layers you add and the size of those layers."
   ]
  },
  {
   "cell_type": "code",
   "execution_count": null,
   "metadata": {},
   "outputs": [],
   "source": [
    "# TODO: Define your network architecture here\n",
    "# To define a model, we require three things \n",
    "# 1) Input size based on input features/resolution of sensors\n",
    "# 2) Number of hidden units on every number of hidden layers, a decision on both\n",
    "# 3) Output size which is based on ground truth or unique lables which we are expected to attach finally,based on our probablities.\n",
    "# 4) Select network components (relu/linear etc)\n"
   ]
  },
  {
   "cell_type": "code",
   "execution_count": null,
   "metadata": {},
   "outputs": [],
   "source": [
    "#1) In this case image size is 28x28 = 784 pixels = 784 nodes on input layer\n"
   ]
  },
  {
   "cell_type": "code",
   "execution_count": null,
   "metadata": {},
   "outputs": [],
   "source": [
    "#3) Find output labels count/GT. \n",
    "# ###########\n",
    "# Checked dataset and website, found\n",
    "#Each training and test example is assigned to one of the following labels:\n",
    "# Label\tDescription\n",
    "# 0\tT-shirt/top\n",
    "# 1\tTrouser\n",
    "# 2\tPullover\n",
    "# 3\tDress\n",
    "# 4\tCoat\n",
    "# 5\tSandal\n",
    "# 6\tShirt\n",
    "# 7\tSneaker\n",
    "# 8\tBag\n",
    "# 9\tAnkle boot\n",
    "########################\n",
    "# and hence 10 labels, output layer will have to have 10 nodes"
   ]
  },
  {
   "cell_type": "code",
   "execution_count": null,
   "metadata": {},
   "outputs": [],
   "source": [
    "# from 784 to 10, let us try to approximate it to 5 layers\n",
    "# 784 to 392 in layer one, 392 to 196 in layer two, 196 to 98 in layer three, 19 in layer four, 19 to 10 in layer five"
   ]
  },
  {
   "cell_type": "code",
   "execution_count": 10,
   "metadata": {},
   "outputs": [],
   "source": [
    "from collections import OrderedDict"
   ]
  },
  {
   "cell_type": "code",
   "execution_count": 12,
   "metadata": {},
   "outputs": [],
   "source": [
    "# Network design decision on network components for designed network\n",
    "fm_input = 784\n",
    "fm_out= 10\n",
    "fm_hidden =[392,196,98,19]\n",
    "\n",
    "##Let us build our new mnist net\n",
    "fm_model =nn.Sequential(OrderedDict([\n",
    "                      ('fc1', nn.Linear(fm_input, fm_hidden[0])),\n",
    "                      ('relu1', nn.ReLU()),\n",
    "                      ('fc2', nn.Linear(fm_hidden[0], fm_hidden[1])),\n",
    "                      ('relu2', nn.ReLU()),\n",
    "                      ('fc3', nn.Linear(fm_hidden[1], fm_hidden[2])),\n",
    "                      ('relu3', nn.ReLU()),\n",
    "                      ('fc4', nn.Linear(fm_hidden[2], fm_hidden[3])),\n",
    "                      ('relu4', nn.ReLU()),\n",
    "                      ('logits', nn.Linear(fm_hidden[3], fm_out))]))\n",
    "\n",
    "                        \n"
   ]
  },
  {
   "cell_type": "code",
   "execution_count": 13,
   "metadata": {},
   "outputs": [
    {
     "data": {
      "text/plain": [
       "Sequential(\n",
       "  (fc1): Linear(in_features=784, out_features=392, bias=True)\n",
       "  (relu1): ReLU()\n",
       "  (fc2): Linear(in_features=392, out_features=196, bias=True)\n",
       "  (relu2): ReLU()\n",
       "  (fc3): Linear(in_features=196, out_features=98, bias=True)\n",
       "  (relu3): ReLU()\n",
       "  (fc4): Linear(in_features=98, out_features=19, bias=True)\n",
       "  (relu4): ReLU()\n",
       "  (logits): Linear(in_features=19, out_features=10, bias=True)\n",
       ")"
      ]
     },
     "execution_count": 13,
     "metadata": {},
     "output_type": "execute_result"
    }
   ],
   "source": [
    "fm_model"
   ]
  },
  {
   "cell_type": "code",
   "execution_count": null,
   "metadata": {},
   "outputs": [],
   "source": []
  },
  {
   "cell_type": "code",
   "execution_count": null,
   "metadata": {},
   "outputs": [],
   "source": []
  },
  {
   "cell_type": "markdown",
   "metadata": {},
   "source": [
    "# Train the network\n",
    "\n",
    "Now you should create your network and train it. First you'll want to define [the criterion](http://pytorch.org/docs/master/nn.html#loss-functions) ( something like `nn.CrossEntropyLoss`) and [the optimizer](http://pytorch.org/docs/master/optim.html) (typically `optim.SGD` or `optim.Adam`).\n",
    "\n",
    "Then write the training code. Remember the training pass is a fairly straightforward process:\n",
    "\n",
    "* Make a forward pass through the network to get the logits \n",
    "* Use the logits to calculate the loss\n",
    "* Perform a backward pass through the network with `loss.backward()` to calculate the gradients\n",
    "* Take a step with the optimizer to update the weights\n",
    "\n",
    "By adjusting the hyperparameters (hidden units, learning rate, etc), you should be able to get the training loss below 0.4."
   ]
  },
  {
   "cell_type": "code",
   "execution_count": 22,
   "metadata": {},
   "outputs": [],
   "source": [
    "# TODO: Create the network, define the criterion and optimizer\n",
    "fm_cmp_crite = nn.CrossEntropyLoss()\n",
    "fm_optimizer = optim.SGD(fm_model.parameters(), lr=0.01)"
   ]
  },
  {
   "cell_type": "code",
   "execution_count": 23,
   "metadata": {},
   "outputs": [
    {
     "name": "stdout",
     "output_type": "stream",
     "text": [
      "Initial weights -  Parameter containing:\n",
      "tensor([[-3.1469e-02, -2.0396e-02,  1.6349e-02,  ...,  2.0300e-02,\n",
      "         -2.1620e-02,  3.8493e-05],\n",
      "        [ 2.9070e-02,  3.2086e-03,  2.7994e-02,  ..., -3.4995e-02,\n",
      "          1.6078e-02, -1.4290e-02],\n",
      "        [ 6.9270e-04, -2.4902e-02,  2.5111e-02,  ...,  2.0485e-02,\n",
      "         -1.1071e-02, -2.1119e-02],\n",
      "        ...,\n",
      "        [ 2.9374e-02,  1.8285e-02,  6.9241e-03,  ..., -2.1890e-02,\n",
      "         -3.3270e-02,  1.1673e-02],\n",
      "        [ 1.2095e-02,  3.0939e-02,  1.8565e-02,  ...,  1.0396e-02,\n",
      "          3.9929e-04,  7.5008e-03],\n",
      "        [ 1.5070e-02, -2.9861e-02,  2.4083e-02,  ...,  4.7940e-03,\n",
      "          3.2487e-02,  2.7393e-02]])\n",
      "Gradient - tensor(1.00000e-04 *\n",
      "       [[ 0.0666,  0.0666,  0.0685,  ..., -0.0559,  0.0674,  0.0666],\n",
      "        [ 1.8737,  1.8721,  1.8671,  ...,  1.6974,  1.9038,  1.9069],\n",
      "        [-0.3970, -0.3970, -0.3970,  ..., -0.3369, -0.3970, -0.3970],\n",
      "        ...,\n",
      "        [ 1.3658,  1.3658,  1.3658,  ...,  1.4274,  1.3910,  1.3867],\n",
      "        [ 1.3225,  1.3225,  1.3401,  ...,  1.3332,  0.9732,  1.1580],\n",
      "        [ 0.4467,  0.4467,  0.4467,  ...,  0.4467,  0.4467,  0.4467]])\n"
     ]
    }
   ],
   "source": [
    "# TODO: Train the network here\n",
    "# First let us do one pass and see what happens\n",
    "print('Initial weights - ', fm_model.fc1.weight)\n",
    "\n",
    "fm_images, fm_labels = next(iter(trainloader))\n",
    "fm_images.resize_(64, 784)\n",
    "\n",
    "# Clear the gradients, do this because gradients are accumulated\n",
    "fm_optimizer.zero_grad()\n",
    "\n",
    "# Forward pass, then backward pass, then update weights\n",
    "fm_output = fm_model.forward(fm_images)\n",
    "fm_loss = fm_cmp_crite(fm_output, fm_labels)\n",
    "fm_loss.backward()\n",
    "print('Gradient -', fm_model.fc1.weight.grad)\n",
    "fm_optimizer.step()\n"
   ]
  },
  {
   "cell_type": "code",
   "execution_count": 27,
   "metadata": {},
   "outputs": [
    {
     "name": "stdout",
     "output_type": "stream",
     "text": [
      "Updated weights -  Parameter containing:\n",
      "tensor([[-3.1469e-02, -2.0396e-02,  1.6349e-02,  ...,  2.0300e-02,\n",
      "         -2.1620e-02,  3.8427e-05],\n",
      "        [ 2.9068e-02,  3.2067e-03,  2.7992e-02,  ..., -3.4997e-02,\n",
      "          1.6076e-02, -1.4292e-02],\n",
      "        [ 6.9310e-04, -2.4902e-02,  2.5111e-02,  ...,  2.0485e-02,\n",
      "         -1.1071e-02, -2.1119e-02],\n",
      "        ...,\n",
      "        [ 2.9373e-02,  1.8284e-02,  6.9227e-03,  ..., -2.1892e-02,\n",
      "         -3.3272e-02,  1.1671e-02],\n",
      "        [ 1.2094e-02,  3.0938e-02,  1.8563e-02,  ...,  1.0395e-02,\n",
      "          3.9832e-04,  7.4996e-03],\n",
      "        [ 1.5070e-02, -2.9861e-02,  2.4082e-02,  ...,  4.7936e-03,\n",
      "          3.2487e-02,  2.7393e-02]])\n"
     ]
    }
   ],
   "source": [
    "print('Updated weights - ', fm_model.fc1.weight)"
   ]
  },
  {
   "cell_type": "code",
   "execution_count": null,
   "metadata": {},
   "outputs": [],
   "source": [
    "#Let us do the real training now.. One pass is sucessful as we can see above\n",
    "fm_cmp_crite = nn.CrossEntropyLoss()\n",
    "fm_optimizer = optim.SGD(fm_model.parameters(), lr=0.003)"
   ]
  },
  {
   "cell_type": "code",
   "execution_count": 56,
   "metadata": {},
   "outputs": [
    {
     "name": "stdout",
     "output_type": "stream",
     "text": [
      "Epoch no : ..  4\n",
      "Loss:  2.294188532829285\n",
      "Epoch no : ..  4\n",
      "Loss:  2.289400782585144\n",
      "Epoch no : ..  4\n",
      "Loss:  2.276886134147644\n",
      "Epoch no : ..  4\n",
      "Loss:  2.2648268508911134\n",
      "Epoch no : ..  4\n",
      "Loss:  2.2453289365768434\n",
      "Epoch no : ..  4\n",
      "Loss:  2.211090521812439\n",
      "Epoch no : ..  4\n",
      "Loss:  2.1638818120956422\n",
      "Epoch no : ..  4\n",
      "Loss:  2.0847243571281435\n",
      "Epoch no : ..  4\n",
      "Loss:  1.983105173110962\n",
      "Epoch no : ..  4\n",
      "Loss:  1.8603445935249328\n",
      "Epoch no : ..  4\n",
      "Loss:  1.7450697445869445\n",
      "Epoch no : ..  4\n",
      "Loss:  1.6144221568107604\n",
      "Epoch no : ..  4\n",
      "Loss:  1.4899475646018983\n",
      "Epoch no : ..  4\n",
      "Loss:  1.351030158996582\n",
      "Epoch no : ..  4\n",
      "Loss:  1.2626980233192444\n",
      "Epoch no : ..  4\n",
      "Loss:  1.1791683721542359\n",
      "Epoch no : ..  4\n",
      "Loss:  1.1061717617511748\n",
      "Epoch no : ..  4\n",
      "Loss:  1.053471703529358\n",
      "Epoch no : ..  4\n",
      "Loss:  0.24182895660400391\n",
      "Epoch no : ..  4\n",
      "Loss:  0.9269751834869385\n",
      "Epoch no : ..  4\n",
      "Loss:  0.8981507635116577\n",
      "Epoch no : ..  4\n",
      "Loss:  0.8645882177352905\n",
      "Epoch no : ..  4\n",
      "Loss:  0.8206474447250366\n",
      "Epoch no : ..  4\n",
      "Loss:  0.8254933333396912\n",
      "Epoch no : ..  4\n",
      "Loss:  0.8111331486701965\n",
      "Epoch no : ..  4\n",
      "Loss:  0.7525613045692444\n",
      "Epoch no : ..  4\n",
      "Loss:  0.754256227016449\n",
      "Epoch no : ..  4\n",
      "Loss:  0.7418516838550567\n",
      "Epoch no : ..  4\n",
      "Loss:  0.7616091871261597\n",
      "Epoch no : ..  4\n",
      "Loss:  0.7581675153970718\n",
      "Epoch no : ..  4\n",
      "Loss:  0.7189150023460388\n",
      "Epoch no : ..  4\n",
      "Loss:  0.7316202437877655\n",
      "Epoch no : ..  4\n",
      "Loss:  0.675495229959488\n",
      "Epoch no : ..  4\n",
      "Loss:  0.6771396911144256\n",
      "Epoch no : ..  4\n",
      "Loss:  0.676572265625\n",
      "Epoch no : ..  4\n",
      "Loss:  0.7077894234657287\n",
      "Epoch no : ..  4\n",
      "Loss:  0.6881412994861603\n",
      "Epoch no : ..  4\n",
      "Loss:  0.3190271109342575\n",
      "Epoch no : ..  4\n",
      "Loss:  0.6430879324674607\n",
      "Epoch no : ..  4\n",
      "Loss:  0.6633863496780396\n",
      "Epoch no : ..  4\n",
      "Loss:  0.6074133747816086\n",
      "Epoch no : ..  4\n",
      "Loss:  0.6540511387586594\n",
      "Epoch no : ..  4\n",
      "Loss:  0.6439560854434967\n",
      "Epoch no : ..  4\n",
      "Loss:  0.6452033686637878\n",
      "Epoch no : ..  4\n",
      "Loss:  0.6226593792438507\n",
      "Epoch no : ..  4\n",
      "Loss:  0.6570118242502212\n",
      "Epoch no : ..  4\n",
      "Loss:  0.6008936017751694\n",
      "Epoch no : ..  4\n",
      "Loss:  0.5789385110139846\n",
      "Epoch no : ..  4\n",
      "Loss:  0.596276912689209\n",
      "Epoch no : ..  4\n",
      "Loss:  0.6197801542282104\n",
      "Epoch no : ..  4\n",
      "Loss:  0.6062425720691681\n",
      "Epoch no : ..  4\n",
      "Loss:  0.5816461396217346\n",
      "Epoch no : ..  4\n",
      "Loss:  0.5741521209478379\n",
      "Epoch no : ..  4\n",
      "Loss:  0.5822166204452515\n",
      "Epoch no : ..  4\n",
      "Loss:  0.5650410163402557\n",
      "Epoch no : ..  4\n",
      "Loss:  0.5386020874977112\n",
      "Epoch no : ..  4\n",
      "Loss:  0.40634799242019654\n",
      "Epoch no : ..  4\n",
      "Loss:  0.5365688419342041\n",
      "Epoch no : ..  4\n",
      "Loss:  0.5332047164440155\n",
      "Epoch no : ..  4\n",
      "Loss:  0.5605796712636948\n",
      "Epoch no : ..  4\n",
      "Loss:  0.5665290457010269\n",
      "Epoch no : ..  4\n",
      "Loss:  0.5234634256362916\n",
      "Epoch no : ..  4\n",
      "Loss:  0.5401413547992706\n",
      "Epoch no : ..  4\n",
      "Loss:  0.536970773935318\n",
      "Epoch no : ..  4\n",
      "Loss:  0.5233830958604813\n",
      "Epoch no : ..  4\n",
      "Loss:  0.5219924259185791\n",
      "Epoch no : ..  4\n",
      "Loss:  0.5262857764959336\n",
      "Epoch no : ..  4\n",
      "Loss:  0.5276662367582321\n",
      "Epoch no : ..  4\n",
      "Loss:  0.509020917415619\n",
      "Epoch no : ..  4\n",
      "Loss:  0.5019258105754852\n",
      "Epoch no : ..  4\n",
      "Loss:  0.5288884788751602\n",
      "Epoch no : ..  4\n",
      "Loss:  0.5124605029821396\n",
      "Epoch no : ..  4\n",
      "Loss:  0.5072307848930359\n",
      "Epoch no : ..  4\n",
      "Loss:  0.5093359750509262\n",
      "Epoch no : ..  4\n",
      "Loss:  0.5159249198436737\n"
     ]
    }
   ],
   "source": [
    "#Initialise\n",
    "fm_epochs = 4\n",
    "print_every = 50\n",
    "steps = 0\n",
    "\n",
    "for cnt_epochs in range (fm_epochs):\n",
    "    fm_rt_loss=0\n",
    "   \n",
    "    for fm_images, fm_labels in iter(trainloader):\n",
    "        steps = steps + 1\n",
    "        ## lets us steam roll images to 784 size vector by beating it down\n",
    "        fm_images.resize_(fm_images.size()[0],784)\n",
    "        fm_optimizer.zero_grad()\n",
    "        \n",
    "        ## Forward pass -do output and loss \n",
    "        fm_output = fm_model.forward(fm_images)\n",
    "        fm_loss = fm_cmp_crite(fm_output,fm_labels) \n",
    "        ## Backward pass - pick up forward loss, propagate back and optimise\n",
    "        fm_loss.backward()\n",
    "        fm_optimizer.step()\n",
    "        \n",
    "        ##cal total loss for all epochs\n",
    "        fm_rt_loss = fm_rt_loss+fm_loss.item()\n",
    "        \n",
    "        if steps % print_every == 0:\n",
    "            print(\"Epoch no : .. \",fm_epochs)\n",
    "            print (\"Loss: \",(fm_rt_loss/print_every))\n",
    "            fm_rt_loss = 0\n",
    "        "
   ]
  },
  {
   "cell_type": "code",
   "execution_count": 58,
   "metadata": {},
   "outputs": [
    {
     "data": {
      "image/png": "[encoded data removed]",
      "text/plain": [
       "<matplotlib.figure.Figure at 0x10595e390>"
      ]
     },
     "metadata": {
      "image/png": {
       "height": 204,
       "width": 423
      }
     },
     "output_type": "display_data"
    }
   ],
   "source": [
    "# Test out your network!\n",
    "\n",
    "dataiter = iter(testloader)\n",
    "images, labels = dataiter.next()\n",
    "img = images[0]\n",
    "# Convert 2D image to 1D vector\n",
    "img = img.resize_(1, 784)\n",
    "\n",
    "# TODO: Calculate the class probabilities (softmax) for img\n",
    "# Turn off gradients to speed up this part\n",
    "with torch.no_grad():\n",
    "    logits = fm_model.forward(img)\n",
    "\n",
    "ps = F.softmax(logits, dim=1)\n",
    "\n",
    "# Plot the image and probabilities\n",
    "helper.view_classify(img.resize_(1, 28, 28), ps, version='Fashion')"
   ]
  },
  {
   "cell_type": "markdown",
   "metadata": {},
   "source": [
    "Now that your network is trained, you'll want to save it to disk so you can load it later instead of training it again. Obviously, it's impractical to train a network every time you need one. In practice, you'll train it once, save the model, then reload it for further training or making predictions. In the next part, I'll show you how to save and load trained models."
   ]
  },
  {
   "cell_type": "code",
   "execution_count": 59,
   "metadata": {},
   "outputs": [
    {
     "name": "stdout",
     "output_type": "stream",
     "text": [
      "Our model: \n",
      "\n",
      " Sequential(\n",
      "  (fc1): Linear(in_features=784, out_features=392, bias=True)\n",
      "  (relu1): ReLU()\n",
      "  (fc2): Linear(in_features=392, out_features=196, bias=True)\n",
      "  (relu2): ReLU()\n",
      "  (fc3): Linear(in_features=196, out_features=98, bias=True)\n",
      "  (relu3): ReLU()\n",
      "  (fc4): Linear(in_features=98, out_features=19, bias=True)\n",
      "  (relu4): ReLU()\n",
      "  (logits): Linear(in_features=19, out_features=10, bias=True)\n",
      ") \n",
      "\n",
      "The state dict keys: \n",
      "\n",
      " odict_keys(['fc1.weight', 'fc1.bias', 'fc2.weight', 'fc2.bias', 'fc3.weight', 'fc3.bias', 'fc4.weight', 'fc4.bias', 'logits.weight', 'logits.bias'])\n"
     ]
    }
   ],
   "source": [
    "print(\"Our model: \\n\\n\",fm_model, '\\n')\n",
    "print(\"The state dict keys: \\n\\n\", fm_model.state_dict().keys())"
   ]
  },
  {
   "cell_type": "code",
   "execution_count": 61,
   "metadata": {},
   "outputs": [],
   "source": [
    "torch.save(fm_model.state_dict(), 'FashionMNIST_checkpoint1.pth')"
   ]
  },
  {
   "cell_type": "code",
   "execution_count": null,
   "metadata": {},
   "outputs": [],
   "source": []
  }
 ],
 "metadata": {
  "kernelspec": {
   "display_name": "Python 3",
   "language": "python",
   "name": "python3"
  },
  "language_info": {
   "codemirror_mode": {
    "name": "ipython",
    "version": 3
   },
   "file_extension": ".py",
   "mimetype": "text/x-python",
   "name": "python",
   "nbconvert_exporter": "python",
   "pygments_lexer": "ipython3",
   "version": "3.6.4"
  }
 },
 "nbformat": 4,
 "nbformat_minor": 2
}
